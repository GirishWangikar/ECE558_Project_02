{
 "cells": [
  {
   "cell_type": "code",
   "execution_count": 1,
   "id": "c0e8d36f",
   "metadata": {},
   "outputs": [],
   "source": [
    "import cv2\n",
    "import numpy as np\n",
    "from PIL import Image"
   ]
  },
  {
   "cell_type": "code",
   "execution_count": 2,
   "id": "1ff5d31e",
   "metadata": {},
   "outputs": [],
   "source": [
    "#Take input images : img_grey = grey scale image & img = RGB image\n",
    "img_grey = np.asarray(Image.open('lena.png').convert('L'))\n",
    "img=np.asarray(Image.open('wolves.png'))\n",
    "r=img[:,:,0]\n",
    "g=img[:,:,1]\n",
    "b=img[:,:,2]"
   ]
  },
  {
   "cell_type": "code",
   "execution_count": 3,
   "id": "630ba007",
   "metadata": {},
   "outputs": [],
   "source": [
    "# Question 1 A"
   ]
  },
  {
   "cell_type": "code",
   "execution_count": 4,
   "id": "4dd6f35c",
   "metadata": {},
   "outputs": [],
   "source": [
    "#Padding Function \n",
    "\n",
    "\"\"\"\n",
    "returns new array of image with paddded values\n",
    "\"\"\"\n",
    "def padding_test(img,p):\n",
    "  h=img.shape[0]\n",
    "  \n",
    "  w=img.shape[1]\n",
    "  #padding value\n",
    "  #minimum padding value must be 2\n",
    "  pad_value = 100\n",
    "  add = int(pad_value/2)\n",
    "  \n",
    "\n",
    "  new_array = np.zeros((h+pad_value,w+pad_value),dtype='float32')\n",
    "  [h1,w1]=new_array.shape\n",
    "  \n",
    " \n",
    "  for i in range(0,h):\n",
    "      for j in range(0,w):\n",
    "        new_array[i+add,j+add] = img[i,j]\n",
    "  if p == 'zero':\n",
    "    return new_array\n",
    "  elif p == 'copy': \n",
    "    for i in range(0,h):\n",
    "        for j in range(0,w):\n",
    "            new_array[0:add,0:add]=img[0,0]\n",
    "            new_array[-add:-1,0:add]=img[h-1,0]\n",
    "            new_array[0:add,-add:-1]=img[0,w-1]\n",
    "            new_array[-add:-1,-add:-1]=img[h-1,w-1]\n",
    "            \n",
    "            new_array[0:add,add:w1-add]=img[0,0:w]\n",
    "            new_array[-add:-1,add:w1-add]=img[h-1,0:w]\n",
    "            new_array[add:h1-add,1:add]=img[0:h,0:1]\n",
    "            new_array[add:h1-add,-add:-1]=img[0:h,w-1:w]\n",
    "    \n",
    "             \n",
    "                    \n",
    "    return new_array\n",
    "  elif p == 'wrap': \n",
    "    for i in range(0,h):\n",
    "        for j in range(0,w):\n",
    "            new_array[0:add,0:add]=img[h-add:h,w-add:w]\n",
    "            new_array[-add:-1,0:add]=img[0:add-1,w-add:w]\n",
    "            new_array[0:add,-add:-1]=img[h-add:h,0:add-1]\n",
    "            new_array[-add:-1,-add:-1]=img[0:add-1,0:add-1]\n",
    "            \n",
    "            new_array[0:add,add:w1-add]=img[h-add:h,0:w]\n",
    "            new_array[-add:-1,add:w1-add]=img[0:add-1,0:w]\n",
    "            new_array[add:h1-add,1:add+1]=img[0:h,w-add:w]\n",
    "            new_array[add:h1-add,-add:-1]=img[0:h,1:add]\n",
    "                            \n",
    "    return new_array\n",
    "\n",
    "  elif p == 'reflect':\n",
    "        \n",
    "    for i in range(0,h):\n",
    "        for j in range(0,w):\n",
    "            new_array[0:add,0:add]=img[add-1::-1,add-1::-1]\n",
    "            new_array[-add:-1,0:add]=img[h:h-add:-1,add-1::-1]\n",
    "            new_array[0:add,-add:-1]=img[add-1::-1,w:w-add:-1]\n",
    "            new_array[-add:-1,-add:-1]=img[h-1:h-add:-1,w-1:w-add:-1]\n",
    "\n",
    "            new_array[0:add,add:w1-add]=img[add-1::-1,0:w]\n",
    "            new_array[-add:-1,add:w1-add]=img[h:h-add:-1,0:w]\n",
    "            new_array[add:h1-add,1:add+1]=img[0:h+1,add-1::-1]\n",
    "            new_array[add:h1-add,-add:-1]=img[0:h+1,w:w-add:-1]\n",
    "    return new_array\n",
    " \n",
    "  "
   ]
  },
  {
   "cell_type": "code",
   "execution_count": 22,
   "id": "f6dfe15c",
   "metadata": {
    "scrolled": false
   },
   "outputs": [],
   "source": [
    "#grey image padding call\n",
    "\"\"\"define the type of padding desired in pad = '___' \"\"\"\n",
    "pad='copy'\n",
    "x=padding_test(img_grey,pad)\n",
    "y=Image.fromarray(x)\n",
    "y.show()"
   ]
  },
  {
   "cell_type": "code",
   "execution_count": 467,
   "id": "c6599d4b",
   "metadata": {},
   "outputs": [],
   "source": [
    "#padding RGB image\n",
    "\"\"\"split rgb image into channels and \n",
    "perform padding and again merge the output images from each channel\"\"\"\n",
    "pad='reflect'\n",
    "x=padding_test(r,pad)\n",
    "r_img = Image.fromarray(x)\n",
    "r_img=r_img.convert('L')\n",
    "y=padding_test(g,pad)\n",
    "g_img = Image.fromarray(y)\n",
    "g_img=g_img.convert('L')\n",
    "z=padding_test(b,pad)\n",
    "b_img = Image.fromarray(z)\n",
    "b_img=b_img.convert('L')\n",
    "img = Image.merge('RGB',(r_img,g_img,b_img))\n",
    "img.show()\n"
   ]
  },
  {
   "cell_type": "code",
   "execution_count": 6,
   "id": "30165ac3",
   "metadata": {},
   "outputs": [],
   "source": [
    "#kernels \n",
    "kernel_prewitt_x = np.array([[-1,0,1],[-1,0,1],[-1,0,1]])\n",
    "kernel_prewitt_y = np.array([[1,1,1],[0,0,0],[-1,-1,-1]])\n",
    "kernel_sobel_x = np.array([[-1,0,1],[-2,0,2],[-1,0,1]])\n",
    "kernel_sobel_y = np.array([[1,2,1],[0,0,0],[-1,-2,-1]])\n",
    "kernel_roberts_x = np.array([[0,1],[-1,0]])\n",
    "kernel_roberts_y = np.array([[1,0],[0,-1]])\n",
    "kernel_box = np.array([[1,1,1],[1,1,1],[1,1,1]])\n",
    "kernel_box = 1/9*kernel_box\n",
    "kernel_first_order_x = np.array([[1,-1]])\n",
    "kernel_first_order_y = np.array([[-1],[1]])\n"
   ]
  },
  {
   "cell_type": "code",
   "execution_count": 7,
   "id": "c0f29f60",
   "metadata": {},
   "outputs": [],
   "source": [
    "#convolution function : displays the output image after convolution\n",
    "def conv(f,w,pad):\n",
    "  \n",
    "  current_matrix = np.array([[0,0,0],[0,0,0],[0,0,0]])\n",
    "\n",
    "  x = padding_test(f,pad)\n",
    "  [s,t] = w.shape\n",
    "\n",
    "  [a,b] = x.shape\n",
    "  convoluted_img = np.zeros(shape=(a,b),dtype='float32')\n",
    "  \n",
    "  for i in range(0,a-2):\n",
    "    for j in range(0,b-2):\n",
    "      current_matrix = x[i:i+s,j:j+t]\n",
    "      convoluted_img[i,j] = (np.multiply(w,current_matrix)).sum()\n",
    "      convoluted_img = convoluted_img.astype(np.int16)\n",
    "  res = Image.fromarray(convoluted_img)\n",
    "  res.show()\n",
    "   "
   ]
  },
  {
   "cell_type": "code",
   "execution_count": 16,
   "id": "61997c33",
   "metadata": {},
   "outputs": [],
   "source": [
    "#modified convolution for RGB channel convolutin\n",
    "def conv_1(f,w,pad):\n",
    "  \n",
    "  current_matrix = np.array([[0,0,0],[0,0,0],[0,0,0]])\n",
    "\n",
    "  x = padding_test(f,pad)\n",
    "  [s,t] = w.shape\n",
    "\n",
    "  [a,b] = x.shape\n",
    "  convoluted_img = np.zeros(shape=(a,b),dtype='float32')\n",
    "  \n",
    "  for i in range(0,a-2):\n",
    "    for j in range(0,b-2):\n",
    "      current_matrix = x[i:i+s,j:j+t]\n",
    "      convoluted_img[i,j] = (np.multiply(w,current_matrix)).sum()\n",
    "      convoluted_img = convoluted_img.astype(np.int16)\n",
    "  res = Image.fromarray(convoluted_img)\n",
    "  return convoluted_img"
   ]
  },
  {
   "cell_type": "code",
   "execution_count": 485,
   "id": "ade0a34e",
   "metadata": {
    "scrolled": true
   },
   "outputs": [],
   "source": [
    "#performing convolution call for grey scale \n",
    "\"\"\"performed on Lena.png\"\"\"\n",
    "pad='reflect'\n",
    "x=conv(img_grey,kernel_first_order_y,pad)\n"
   ]
  },
  {
   "cell_type": "code",
   "execution_count": 17,
   "id": "6cbfb5ef",
   "metadata": {
    "scrolled": true
   },
   "outputs": [],
   "source": [
    "#convolution call for RGB scale\n",
    "\"\"\"\n",
    "performed on wolves.png\n",
    "\"\"\"\n",
    "pad='reflect'\n",
    "img = Image.open('wolves.png')\n",
    "x=Image.Image.split(img)\n",
    "r=np.array(x[0])\n",
    "g=np.array(x[1])\n",
    "b=np.array(x[2])\n",
    "r1=conv_1(r,kernel_box,pad)\n",
    "r_img = Image.fromarray(r1).convert('L')\n",
    "g1=conv_1(g,kernel_box,pad)\n",
    "g_img = Image.fromarray(g1).convert('L')\n",
    "b1=conv_1(b,kernel_box,pad)\n",
    "b_img = Image.fromarray(b1).convert('L')\n",
    "img = Image.merge('RGB',(r_img,g_img,b_img))\n",
    "img.show()"
   ]
  },
  {
   "cell_type": "code",
   "execution_count": 9,
   "id": "a2b200c5",
   "metadata": {},
   "outputs": [],
   "source": [
    "# Question 1 B"
   ]
  },
  {
   "cell_type": "code",
   "execution_count": 18,
   "id": "10144a85",
   "metadata": {},
   "outputs": [],
   "source": [
    "# Generate grey scale image of size 1024x1024 \n",
    "\"\"\"\n",
    "perform convolution on generated grey scale matrix using same convolution function\n",
    "\"\"\"\n",
    "grey_img=np.zeros((1024,1024),dtype='int32')\n",
    "grey_img[512,512]=255\n",
    "g_op=Image.fromarray(grey_img)\n",
    "g_op.show()\n",
    "pad='zero'\n",
    "conv(grey_img,kernel_sobel_x,pad)"
   ]
  },
  {
   "cell_type": "code",
   "execution_count": null,
   "id": "e5f032a9",
   "metadata": {},
   "outputs": [],
   "source": []
  }
 ],
 "metadata": {
  "kernelspec": {
   "display_name": "Python 3 (ipykernel)",
   "language": "python",
   "name": "python3"
  },
  "language_info": {
   "codemirror_mode": {
    "name": "ipython",
    "version": 3
   },
   "file_extension": ".py",
   "mimetype": "text/x-python",
   "name": "python",
   "nbconvert_exporter": "python",
   "pygments_lexer": "ipython3",
   "version": "3.9.12"
  }
 },
 "nbformat": 4,
 "nbformat_minor": 5
}
